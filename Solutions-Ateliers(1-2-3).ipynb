{
 "cells": [
  {
   "cell_type": "markdown",
   "id": "3b0e29e1",
   "metadata": {},
   "source": [
    "<Center><h1>Nassiri Ilyas</h1></center>\n"
   ]
  },
  {
   "cell_type": "markdown",
   "id": "44b5b532",
   "metadata": {},
   "source": [
    "<Center><h1>Atelier 1 :</h1></center>"
   ]
  },
  {
   "cell_type": "markdown",
   "id": "c575e550",
   "metadata": {},
   "source": [
    "## Exercice 1 :"
   ]
  },
  {
   "cell_type": "code",
   "execution_count": 13,
   "id": "9154c58f",
   "metadata": {},
   "outputs": [
    {
     "name": "stdout",
     "output_type": "stream",
     "text": [
      "la vitesse est :45.63636363636363\n",
      "la vitesse est :45.64\n"
     ]
    }
   ],
   "source": [
    "temps,Distances=2.75,125.5\n",
    "Vitesse=Distances/temps\n",
    "print(\"la vitesse est :{}\".format(Vitesse))\n",
    "print(\"la vitesse est :{:.2f}\".format(Vitesse))"
   ]
  },
  {
   "cell_type": "markdown",
   "id": "1b5245f8",
   "metadata": {},
   "source": [
    "## Exercice 2 :"
   ]
  },
  {
   "cell_type": "code",
   "execution_count": 22,
   "id": "56c3de0a",
   "metadata": {},
   "outputs": [
    {
     "name": "stdout",
     "output_type": "stream",
     "text": [
      "donner le premier nombre entier :12\n",
      "12\n",
      "donner le premier nombre entier :14\n",
      "14\n",
      "le premier numero est : 14 - le deuxieme numero est : 12\n"
     ]
    }
   ],
   "source": [
    "premierNumero=int(input(\"donner le premier nombre entier :\"))\n",
    "print(premierNumero)\n",
    "deuxiemeNumero=int(input(\"donner le premier nombre entier :\")) \n",
    "print(deuxiemeNumero)\n",
    "helper=premierNumero\n",
    "premierNumero=deuxiemeNumero\n",
    "deuxiemeNumero=helper\n",
    "print(\"le premier numero est : {} - le deuxieme numero est : {}\".format(premierNumero,deuxiemeNumero))"
   ]
  },
  {
   "cell_type": "markdown",
   "id": "5ded4e3f",
   "metadata": {},
   "source": [
    "## Exercice 3 :"
   ]
  },
  {
   "cell_type": "code",
   "execution_count": 28,
   "id": "84de7d8c",
   "metadata": {},
   "outputs": [
    {
     "name": "stdout",
     "output_type": "stream",
     "text": [
      "donner la premiere note :12\n",
      "donner le premier Queffition :1\n",
      "donner la deuxieme note :12\n",
      "donner le deuxieme Queffition :2\n",
      "donner la troisieme note :12\n",
      "donner le troisieme Queffition :2\n",
      "la moyeene est : 12.00\n"
     ]
    }
   ],
   "source": [
    "premiereNote=int(input(\"donner la premiere note :\"))\n",
    "premierCoef=int(input(\"donner le Queffition de la note saisi :\"))\n",
    "deuxiemeNote=int(input(\"donner la deuxieme note :\"))\n",
    "deuxsimeCoef=int(input(\"donner le deuxieme Queffition :\"))\n",
    "troisiemeNote=int(input(\"donner la troisieme note :\"))\n",
    "troisiemeCoef=int(input(\"donner le troisieme Queffition :\"))\n",
    "moyenne =float(((premiereNote * premierCoef)+(deuxiemeNote * deuxsimeCoef) + (troisiemeNote * troisiemeCoef))/(premierCoef+deuxsimeCoef+troisiemeCoef)) \n",
    "print(\"la moyeene est : {:.2f}\".format(moyenne))"
   ]
  },
  {
   "cell_type": "markdown",
   "id": "e73192b2",
   "metadata": {},
   "source": [
    "<Center><h1>Atelier 2 :</h1></center>"
   ]
  },
  {
   "cell_type": "markdown",
   "id": "fb94ead3",
   "metadata": {},
   "source": [
    "## Exercice 1 :"
   ]
  },
  {
   "cell_type": "code",
   "execution_count": 360,
   "id": "cb3a2485",
   "metadata": {},
   "outputs": [
    {
     "name": "stdout",
     "output_type": "stream",
     "text": [
      "donner un nombre :12\n",
      "la racine carré de 12.0 est : 3.4641016151377544\n"
     ]
    }
   ],
   "source": [
    "from math import sqrt\n",
    "number=float(input(\"donner un nombre :\"))\n",
    "if number>=0:\n",
    "    racine=sqrt(number)\n",
    "    print(\"la racine carré de {} est : {}\".format(number,racine))\n",
    "else:\n",
    "    print(\"le nombre doit etre positif ou null\")\n",
    "    "
   ]
  },
  {
   "cell_type": "markdown",
   "id": "efe4831b",
   "metadata": {},
   "source": [
    "## Exercice 2 (premier Cas):"
   ]
  },
  {
   "cell_type": "code",
   "execution_count": 47,
   "id": "c50417bd",
   "metadata": {},
   "outputs": [
    {
     "name": "stdout",
     "output_type": "stream",
     "text": [
      "donner le premier Mot :ahmed\n",
      "donner le deuxieme Mot :Ahmed\n",
      "1-Ahmed\n",
      "2-ahmed\n"
     ]
    }
   ],
   "source": [
    "premierMot=input(\"donner le premier Mot :\")\n",
    "deuxiemeMot=input(\"donner le deuxieme Mot :\")\n",
    "if premierMot<deuxiemeMot :\n",
    "    print(\"1-{}\\n2-{}\".format(premierMot,deuxiemeMot))\n",
    "else:\n",
    "    print(\"1-{}\\n2-{}\".format(deuxiemeMot,premierMot))"
   ]
  },
  {
   "cell_type": "markdown",
   "id": "286fb6e1",
   "metadata": {},
   "source": [
    "## Exercice 2 (2eme Cas):"
   ]
  },
  {
   "cell_type": "code",
   "execution_count": 57,
   "id": "5e48ac25",
   "metadata": {},
   "outputs": [
    {
     "name": "stdout",
     "output_type": "stream",
     "text": [
      "donner le premier Mot :ahmed\n",
      "donner le deuxieme Mot :Ahmed\n",
      "1-Ahmed\n",
      "2-ahmed\n"
     ]
    }
   ],
   "source": [
    "premierMot=input(\"donner le premier Mot :\")\n",
    "deuxiemeMot=input(\"donner le deuxieme Mot :\")\n",
    "res=print(\"1-{}\\n2-{}\".format(premierMot,deuxiemeMot)) if premierMot<deuxiemeMot else print(\"1-{}\\n2-{}\".format(deuxiemeMot,premierMot))"
   ]
  },
  {
   "cell_type": "markdown",
   "id": "39ce0e1c",
   "metadata": {},
   "source": [
    "## Exercice 3 (Solution dans R):"
   ]
  },
  {
   "cell_type": "code",
   "execution_count": 82,
   "id": "5a34cf12",
   "metadata": {},
   "outputs": [
    {
     "name": "stdout",
     "output_type": "stream",
     "text": [
      "donner a :2\n",
      "donner b :3\n",
      "donner c :1\n",
      "l'equation a duex solutions dans R : -1.00 et -0.50\n"
     ]
    }
   ],
   "source": [
    "from math import sqrt\n",
    "a=float(input(\"donner a :\"))\n",
    "b=float(input(\"donner b :\"))\n",
    "c=float(input(\"donner c :\"))\n",
    "if a==0 :\n",
    "    print(\"a doit etre nombre réel non null\")\n",
    "else :\n",
    "    delta=(b**2)-(4*a*c)\n",
    "    if delta==0 :\n",
    "        print(\"l'equation a une seul solution dans R : {}\".format(-b/(2*a)))\n",
    "    elif delta>0 :\n",
    "        print(\"l'equation a duex solutions dans R : {:.2f} et {:.2f}\".format(((-b)-sqrt(delta))/(2*a),((-b)+sqrt(delta))/(2*a)))\n",
    "    else :\n",
    "        print(\"l'equation n'a pas des solution sur R\")"
   ]
  },
  {
   "cell_type": "markdown",
   "id": "8dc47d28",
   "metadata": {},
   "source": [
    "## Excercice 3 (Solution dans C) :"
   ]
  },
  {
   "cell_type": "code",
   "execution_count": 94,
   "id": "e5f61418",
   "metadata": {},
   "outputs": [
    {
     "name": "stdout",
     "output_type": "stream",
     "text": [
      "donner a :7\n",
      "donner b :3\n",
      "donner c :2\n",
      "l'equation a duex solutions dans C : -0.21+0.49j et -0.21-0.49j\n"
     ]
    }
   ],
   "source": [
    "from math import sqrt\n",
    "from cmath import *\n",
    "a=float(input(\"donner a :\"))\n",
    "b=float(input(\"donner b :\"))\n",
    "c=float(input(\"donner c :\"))\n",
    "if a==0 :\n",
    "    print(\"a doit etre nombre réel non null\")\n",
    "else :\n",
    "    delta=(b**2)-(4*a*c)\n",
    "    if delta==0 :\n",
    "        print(\"l'equation a une seul solution dans C : {}\".format(-b/(2*a)))\n",
    "    elif delta>0 :\n",
    "        print(\"l'equation a duex solutions dans C : {:.2f} et {:.2f}\".format(((-b)-sqrt(delta))/(2*a),((-b)+sqrt(delta))/(2*a)))\n",
    "    else :\n",
    "         print(\"l'equation a duex solutions dans C : {:.2f} et {:.2f}\".format(complex(-b,sqrt(-delta))/(2*a),complex(-b,-sqrt(-delta))/(2*a)))"
   ]
  },
  {
   "cell_type": "markdown",
   "id": "0af51e1b",
   "metadata": {},
   "source": [
    "## Exercice 4 :"
   ]
  },
  {
   "cell_type": "code",
   "execution_count": 109,
   "id": "0f81349b",
   "metadata": {},
   "outputs": [
    {
     "name": "stdout",
     "output_type": "stream",
     "text": [
      "donner la pression :2\n",
      "donner le volume :9\n",
      "plaise diminue le volume de l'enciente\n"
     ]
    }
   ],
   "source": [
    "pSeuil,vSeuil=2.3,7.41\n",
    "pression=float(input(\"donner la pression :\"))\n",
    "volume=float(input(\"donner le volume :\"))\n",
    "if pression>pSeuil and volume>vSeuil:\n",
    "    print(\"arret immediat\")\n",
    "elif  volume<vSeuil and pression>pSeuil:\n",
    "    print(\"plaise augmente le volume de l'enciente\")\n",
    "elif volume>vSeuil:\n",
    "    print(\"plaise diminue le volume de l'enciente\")\n",
    "else :\n",
    "    print(\"tous va bien\")"
   ]
  },
  {
   "cell_type": "markdown",
   "id": "b13d7118",
   "metadata": {},
   "source": [
    "<Center><h1>Atelier 3 :</h1></center>"
   ]
  },
  {
   "cell_type": "markdown",
   "id": "4e8dd611",
   "metadata": {},
   "source": [
    "## Exercice 1:"
   ]
  },
  {
   "cell_type": "code",
   "execution_count": 113,
   "id": "baddd329",
   "metadata": {},
   "outputs": [
    {
     "name": "stdout",
     "output_type": "stream",
     "text": [
      "donner n :5\n",
      "la somme de 0 jusqu'à 5 est : 15\n"
     ]
    }
   ],
   "source": [
    "n=int(input(\"donner n :\"))\n",
    "s=0\n",
    "for i in range(0,n+1) :\n",
    "    s+=i\n",
    "print(\"la somme de {} jusqu'à {} est : {}\".format(0,n,s))"
   ]
  },
  {
   "cell_type": "markdown",
   "id": "f6d3653f",
   "metadata": {},
   "source": [
    "## Exercice 2 :"
   ]
  },
  {
   "cell_type": "code",
   "execution_count": 361,
   "id": "3240fb03",
   "metadata": {},
   "outputs": [
    {
     "name": "stdout",
     "output_type": "stream",
     "text": [
      "donner n :2\n",
      "donner m :4\n",
      "la somme de 2 jusqu'à 4 est : 9\n"
     ]
    }
   ],
   "source": [
    "n=int(input(\"donner n :\"))\n",
    "m=int(input(\"donner m :\"))\n",
    "s=0\n",
    "for i in range(n,m+1) :\n",
    "    s+=i\n",
    "print(\"la somme de {0} jusqu'à {1} est : {2}\".format(n,m,s))"
   ]
  },
  {
   "cell_type": "markdown",
   "id": "7d32f009",
   "metadata": {},
   "source": [
    "## Exercice 3:"
   ]
  },
  {
   "cell_type": "code",
   "execution_count": 124,
   "id": "af3db242",
   "metadata": {},
   "outputs": [
    {
     "name": "stdout",
     "output_type": "stream",
     "text": [
      "donner n :4\n",
      "le factoriel de 4 est : 24\n"
     ]
    }
   ],
   "source": [
    "n=int(input(\"donner n :\"))\n",
    "f=1\n",
    "for i in range (n,1,-1) :\n",
    "    f*=i;\n",
    "print(\"le factoriel de {} est : {}\".format(n,f))"
   ]
  },
  {
   "cell_type": "markdown",
   "id": "17a10c3d",
   "metadata": {},
   "source": [
    "## Exercice 4:"
   ]
  },
  {
   "cell_type": "code",
   "execution_count": 122,
   "id": "e038a5ea",
   "metadata": {},
   "outputs": [
    {
     "name": "stdout",
     "output_type": "stream",
     "text": [
      "donner n :2\n",
      "donner m :6\n",
      "la somme des nombres impaire entre 2 et 6 est : 8\n"
     ]
    }
   ],
   "source": [
    "n=int(input(\"donner n :\"))\n",
    "m=int(input(\"donner m :\"))\n",
    "s=0\n",
    "for i in range(n,m+1):\n",
    "    if i%2!=0 :\n",
    "        s+=i\n",
    "print(\"la somme des nombres impaire entre {} et {} est : {}\".format(n,m,s))"
   ]
  },
  {
   "cell_type": "markdown",
   "id": "21bf6150",
   "metadata": {},
   "source": [
    "## Exercice 5:"
   ]
  },
  {
   "cell_type": "code",
   "execution_count": 123,
   "id": "8136a219",
   "metadata": {},
   "outputs": [
    {
     "name": "stdout",
     "output_type": "stream",
     "text": [
      "donner n :3\n",
      "la somme est : 14\n"
     ]
    }
   ],
   "source": [
    "n=int(input(\"donner n :\"))\n",
    "s=0\n",
    "for i in range(1,n+1) :\n",
    "    s+=i**2\n",
    "print(\"la somme est : {}\".format(s))"
   ]
  },
  {
   "cell_type": "markdown",
   "id": "0e313ad6",
   "metadata": {},
   "source": [
    "## Exercice 6:"
   ]
  },
  {
   "cell_type": "code",
   "execution_count": 125,
   "id": "e9f5c4c0",
   "metadata": {},
   "outputs": [
    {
     "name": "stdout",
     "output_type": "stream",
     "text": [
      "donner n :2\n",
      "la somme est : 4\n"
     ]
    }
   ],
   "source": [
    "n=int(input(\"donner n :\"))\n",
    "s=0\n",
    "for i in range(1,n+1) :\n",
    "    s+=((-1)**i)*(i**2+i)\n",
    "print(\"la somme est : {}\".format(s))"
   ]
  },
  {
   "cell_type": "markdown",
   "id": "065d5031",
   "metadata": {},
   "source": [
    "## Exercice 7"
   ]
  },
  {
   "cell_type": "code",
   "execution_count": 161,
   "id": "9ac86acf",
   "metadata": {},
   "outputs": [
    {
     "name": "stdout",
     "output_type": "stream",
     "text": [
      "donner un nombre de x entre 0 et 1 :0.5\n",
      "donner un nombre de n :100\n",
      "la somme de est :2.00 = 2.0\n"
     ]
    }
   ],
   "source": [
    "x=float(input(\"donner un nombre de x entre 0 et 1 :\"))\n",
    "while x<=0 or x>=1:\n",
    "    print(\"donner un nombre de x entre 0 et 1 :\")\n",
    "n=int(input(\"donner un nombre de n :\"))\n",
    "somme=0\n",
    "for i in range(n+1) :\n",
    "    somme+=x**i\n",
    "resultat=1/(1-x)\n",
    "print(\"la somme de est :{:.2f} = {}\".format(somme,resultat))\n",
    "\n",
    "    "
   ]
  },
  {
   "cell_type": "markdown",
   "id": "2fcdc9c5",
   "metadata": {},
   "source": [
    "## Exercice 8 :"
   ]
  },
  {
   "cell_type": "code",
   "execution_count": 357,
   "id": "8f106aca",
   "metadata": {},
   "outputs": [
    {
     "name": "stdout",
     "output_type": "stream",
     "text": [
      "donner un nombre de n:1000\n",
      "la résultat de π est : 3.1406380562059946\n",
      "la résultat de π est : 3.140807746030402\n"
     ]
    }
   ],
   "source": [
    "from math import*\n",
    "n=int(input(\"donner un nombre de n:\"))\n",
    "somme=0\n",
    "produit=1\n",
    "for i in range(1,n+1):\n",
    "    somme+=1/(i**2)\n",
    "for i in range(1,n+1):\n",
    "    produit*=(4*(i**2))/((4*(i**2)-1))\n",
    "pi=sqrt(somme*6)\n",
    "Pi=produit*2\n",
    "print(\"la résultat de π est : {}\".format(pi))\n",
    "print(\"la résultat de π est : {}\".format(Pi))\n",
    "\n"
   ]
  },
  {
   "cell_type": "markdown",
   "id": "16ad6364",
   "metadata": {},
   "source": [
    "## Exercice 9 (la méthode des réctangles) :"
   ]
  },
  {
   "cell_type": "code",
   "execution_count": 336,
   "id": "deb75789",
   "metadata": {},
   "outputs": [
    {
     "name": "stdout",
     "output_type": "stream",
     "text": [
      "donner un nombre de n:2000\n",
      "donner un nombre de a:5\n",
      "donner un nombre de b:7\n",
      " d'aprés la méthode de réctangle I=30.333333312500013\n"
     ]
    }
   ],
   "source": [
    "def Somme( a , b , n ) :\n",
    "    h= (b-a )/n\n",
    "    somme=0\n",
    "    for i in range (n):\n",
    "        xi=a+((i*h)/2)\n",
    "        xj=a+(((i+1)*h)/2)\n",
    "        x=(xi+xj)/2\n",
    "        somme+=(xj-xi) * f (x)\n",
    "    return somme\n",
    "def f(x):\n",
    "    return x**2 #proposons que f(x)=x**2\n",
    "n=int(input(\"donner un nombre de n:\"))\n",
    "a=float(input(\"donner un nombre de a:\"))\n",
    "b=float(input(\"donner un nombre de b:\"))\n",
    "print(\" d'aprés la méthode de réctangle I={}\".format(Somme(a,b,n)))"
   ]
  },
  {
   "cell_type": "markdown",
   "id": "277cdb53",
   "metadata": {},
   "source": [
    "## ## Exercice 9 (la méthode de trapèzes) :"
   ]
  },
  {
   "cell_type": "code",
   "execution_count": 337,
   "id": "205e6370",
   "metadata": {},
   "outputs": [
    {
     "name": "stdout",
     "output_type": "stream",
     "text": [
      "donner un nombre de n:2000\n",
      "donner un nombre de a:5\n",
      "donner un nombre de b:7\n",
      "d'aprés la méthode de trapèzes I=30.37033325\n"
     ]
    }
   ],
   "source": [
    "def Somme( a , b , n ) :\n",
    "    somme=0\n",
    "    h=(b-a)/n\n",
    "    for i in range(1,n,2) :\n",
    "        xi=a+((i*h)/2)\n",
    "        somme+=f(xi)\n",
    "    x=((f(a)+f(b))/2)\n",
    "    return (h*x)+(h*somme)\n",
    "def f(x):\n",
    "    return x**2  #proposons que f(x)=x**2\n",
    "n=int(input(\"donner un nombre de n:\"))\n",
    "a=float(input(\"donner un nombre de a:\"))\n",
    "b=float(input(\"donner un nombre de b:\"))\n",
    "print(\"d'aprés la méthode de trapèzes I={}\".format(Somme(a,b,n)))"
   ]
  },
  {
   "cell_type": "markdown",
   "id": "acfd1353",
   "metadata": {},
   "source": [
    "## Exercice 9 (la méthode de simpson) :"
   ]
  },
  {
   "cell_type": "code",
   "execution_count": 338,
   "id": "c594a4c0",
   "metadata": {},
   "outputs": [
    {
     "name": "stdout",
     "output_type": "stream",
     "text": [
      "donner un nombre de n:2000\n",
      "donner un nombre de a:5\n",
      "donner un nombre de b:7\n",
      "d'aprés la méthode de simpson I=30.343833333333343\n"
     ]
    }
   ],
   "source": [
    "def Somme( a , b , n ) :\n",
    "    somme=0\n",
    "    somme1=0\n",
    "    h=(b-a)/n\n",
    "    for i in range(1,n,2) :\n",
    "        xi=a+((i*h)/2)\n",
    "        xj=a+(((i+1)*h)/2)\n",
    "        somme+=f(xi)\n",
    "    for i in range(0,n,2) :\n",
    "        xi=(a+((b-a)*i)/(2*n))\n",
    "        xj=(a+((b-a)*(i+1))/(2*n))\n",
    "        somme1+=f(xi)\n",
    "    return (h/6)*(f(a)+f(b)+(4*somme)+(2*somme1))\n",
    "def f(x):\n",
    "    return x**2  #suposons que f(x)=x**2\n",
    "n=int(input(\"donner un nombre de n:\"))\n",
    "a=float(input(\"donner un nombre de a:\"))\n",
    "b=float(input(\"donner un nombre de b:\"))\n",
    "print(\"d'aprés la méthode de simpson I={}\".format(Somme(a,b,n)))"
   ]
  }
 ],
 "metadata": {
  "kernelspec": {
   "display_name": "Python 3 (ipykernel)",
   "language": "python",
   "name": "python3"
  },
  "language_info": {
   "codemirror_mode": {
    "name": "ipython",
    "version": 3
   },
   "file_extension": ".py",
   "mimetype": "text/x-python",
   "name": "python",
   "nbconvert_exporter": "python",
   "pygments_lexer": "ipython3",
   "version": "3.9.7"
  }
 },
 "nbformat": 4,
 "nbformat_minor": 5
}
